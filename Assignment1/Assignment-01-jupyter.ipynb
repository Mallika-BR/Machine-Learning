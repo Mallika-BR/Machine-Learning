{
 "cells": [
  {
   "cell_type": "markdown",
   "id": "43a08475",
   "metadata": {},
   "source": [
    "## Programming Assignment 1\n",
    "#### Machine Learning (CSCI-4930/5930)"
   ]
  },
  {
   "cell_type": "code",
   "execution_count": 1,
   "id": "b2aca17a",
   "metadata": {},
   "outputs": [],
   "source": [
    "# Import libraries\n",
    "import pandas as pd"
   ]
  },
  {
   "cell_type": "code",
   "execution_count": 2,
   "id": "965be241",
   "metadata": {},
   "outputs": [],
   "source": [
    "# First load the dataset into pandas dataframe\n",
    "training = pd.read_csv('dataset/training.csv',header=None,delimiter=',')\n",
    "validation = pd.read_csv('dataset/validation.csv',header=None,delimiter=',')"
   ]
  },
  {
   "cell_type": "code",
   "execution_count": 3,
   "id": "c5408ec1",
   "metadata": {},
   "outputs": [
    {
     "data": {
      "text/html": [
       "<div>\n",
       "<style scoped>\n",
       "    .dataframe tbody tr th:only-of-type {\n",
       "        vertical-align: middle;\n",
       "    }\n",
       "\n",
       "    .dataframe tbody tr th {\n",
       "        vertical-align: top;\n",
       "    }\n",
       "\n",
       "    .dataframe thead th {\n",
       "        text-align: right;\n",
       "    }\n",
       "</style>\n",
       "<table border=\"1\" class=\"dataframe\">\n",
       "  <thead>\n",
       "    <tr style=\"text-align: right;\">\n",
       "      <th></th>\n",
       "      <th>0</th>\n",
       "      <th>1</th>\n",
       "      <th>2</th>\n",
       "      <th>3</th>\n",
       "      <th>4</th>\n",
       "      <th>5</th>\n",
       "      <th>6</th>\n",
       "      <th>7</th>\n",
       "      <th>8</th>\n",
       "    </tr>\n",
       "  </thead>\n",
       "  <tbody>\n",
       "    <tr>\n",
       "      <th>0</th>\n",
       "      <td>-315</td>\n",
       "      <td>75</td>\n",
       "      <td>0.205128</td>\n",
       "      <td>0.230769</td>\n",
       "      <td>0.307692</td>\n",
       "      <td>0.146667</td>\n",
       "      <td>0.280000</td>\n",
       "      <td>0.240000</td>\n",
       "      <td>0</td>\n",
       "    </tr>\n",
       "    <tr>\n",
       "      <th>1</th>\n",
       "      <td>-243</td>\n",
       "      <td>75</td>\n",
       "      <td>0.213333</td>\n",
       "      <td>0.186667</td>\n",
       "      <td>0.293333</td>\n",
       "      <td>0.400000</td>\n",
       "      <td>0.253333</td>\n",
       "      <td>0.186667</td>\n",
       "      <td>0</td>\n",
       "    </tr>\n",
       "    <tr>\n",
       "      <th>2</th>\n",
       "      <td>-289</td>\n",
       "      <td>77</td>\n",
       "      <td>0.192308</td>\n",
       "      <td>0.230769</td>\n",
       "      <td>0.282051</td>\n",
       "      <td>0.220779</td>\n",
       "      <td>0.220779</td>\n",
       "      <td>0.272727</td>\n",
       "      <td>0</td>\n",
       "    </tr>\n",
       "    <tr>\n",
       "      <th>3</th>\n",
       "      <td>-776</td>\n",
       "      <td>118</td>\n",
       "      <td>0.271186</td>\n",
       "      <td>0.203390</td>\n",
       "      <td>0.271186</td>\n",
       "      <td>0.200000</td>\n",
       "      <td>0.200000</td>\n",
       "      <td>0.291667</td>\n",
       "      <td>1</td>\n",
       "    </tr>\n",
       "    <tr>\n",
       "      <th>4</th>\n",
       "      <td>-388</td>\n",
       "      <td>77</td>\n",
       "      <td>0.226190</td>\n",
       "      <td>0.238095</td>\n",
       "      <td>0.250000</td>\n",
       "      <td>0.272727</td>\n",
       "      <td>0.272727</td>\n",
       "      <td>0.207792</td>\n",
       "      <td>1</td>\n",
       "    </tr>\n",
       "  </tbody>\n",
       "</table>\n",
       "</div>"
      ],
      "text/plain": [
       "     0    1         2         3         4         5         6         7  8\n",
       "0 -315   75  0.205128  0.230769  0.307692  0.146667  0.280000  0.240000  0\n",
       "1 -243   75  0.213333  0.186667  0.293333  0.400000  0.253333  0.186667  0\n",
       "2 -289   77  0.192308  0.230769  0.282051  0.220779  0.220779  0.272727  0\n",
       "3 -776  118  0.271186  0.203390  0.271186  0.200000  0.200000  0.291667  1\n",
       "4 -388   77  0.226190  0.238095  0.250000  0.272727  0.272727  0.207792  1"
      ]
     },
     "execution_count": 3,
     "metadata": {},
     "output_type": "execute_result"
    }
   ],
   "source": [
    "validation.head()"
   ]
  },
  {
   "cell_type": "markdown",
   "id": "e3d286b5",
   "metadata": {},
   "source": [
    "## Task : A\n",
    "Print total number of samples in the validation dataset: \"dataset/validation.csv\""
   ]
  },
  {
   "cell_type": "code",
   "execution_count": 4,
   "id": "9f3220d2",
   "metadata": {},
   "outputs": [
    {
     "data": {
      "text/html": [
       "<div>\n",
       "<style scoped>\n",
       "    .dataframe tbody tr th:only-of-type {\n",
       "        vertical-align: middle;\n",
       "    }\n",
       "\n",
       "    .dataframe tbody tr th {\n",
       "        vertical-align: top;\n",
       "    }\n",
       "\n",
       "    .dataframe thead th {\n",
       "        text-align: right;\n",
       "    }\n",
       "</style>\n",
       "<table border=\"1\" class=\"dataframe\">\n",
       "  <thead>\n",
       "    <tr style=\"text-align: right;\">\n",
       "      <th></th>\n",
       "      <th>0</th>\n",
       "      <th>1</th>\n",
       "      <th>2</th>\n",
       "      <th>3</th>\n",
       "      <th>4</th>\n",
       "      <th>5</th>\n",
       "      <th>6</th>\n",
       "      <th>7</th>\n",
       "      <th>8</th>\n",
       "    </tr>\n",
       "  </thead>\n",
       "  <tbody>\n",
       "    <tr>\n",
       "      <th>0</th>\n",
       "      <td>-315</td>\n",
       "      <td>75</td>\n",
       "      <td>0.205128</td>\n",
       "      <td>0.230769</td>\n",
       "      <td>0.307692</td>\n",
       "      <td>0.146667</td>\n",
       "      <td>0.280000</td>\n",
       "      <td>0.240000</td>\n",
       "      <td>0</td>\n",
       "    </tr>\n",
       "    <tr>\n",
       "      <th>1</th>\n",
       "      <td>-243</td>\n",
       "      <td>75</td>\n",
       "      <td>0.213333</td>\n",
       "      <td>0.186667</td>\n",
       "      <td>0.293333</td>\n",
       "      <td>0.400000</td>\n",
       "      <td>0.253333</td>\n",
       "      <td>0.186667</td>\n",
       "      <td>0</td>\n",
       "    </tr>\n",
       "    <tr>\n",
       "      <th>2</th>\n",
       "      <td>-289</td>\n",
       "      <td>77</td>\n",
       "      <td>0.192308</td>\n",
       "      <td>0.230769</td>\n",
       "      <td>0.282051</td>\n",
       "      <td>0.220779</td>\n",
       "      <td>0.220779</td>\n",
       "      <td>0.272727</td>\n",
       "      <td>0</td>\n",
       "    </tr>\n",
       "    <tr>\n",
       "      <th>3</th>\n",
       "      <td>-776</td>\n",
       "      <td>118</td>\n",
       "      <td>0.271186</td>\n",
       "      <td>0.203390</td>\n",
       "      <td>0.271186</td>\n",
       "      <td>0.200000</td>\n",
       "      <td>0.200000</td>\n",
       "      <td>0.291667</td>\n",
       "      <td>1</td>\n",
       "    </tr>\n",
       "    <tr>\n",
       "      <th>4</th>\n",
       "      <td>-388</td>\n",
       "      <td>77</td>\n",
       "      <td>0.226190</td>\n",
       "      <td>0.238095</td>\n",
       "      <td>0.250000</td>\n",
       "      <td>0.272727</td>\n",
       "      <td>0.272727</td>\n",
       "      <td>0.207792</td>\n",
       "      <td>1</td>\n",
       "    </tr>\n",
       "    <tr>\n",
       "      <th>...</th>\n",
       "      <td>...</td>\n",
       "      <td>...</td>\n",
       "      <td>...</td>\n",
       "      <td>...</td>\n",
       "      <td>...</td>\n",
       "      <td>...</td>\n",
       "      <td>...</td>\n",
       "      <td>...</td>\n",
       "      <td>...</td>\n",
       "    </tr>\n",
       "    <tr>\n",
       "      <th>59995</th>\n",
       "      <td>-707</td>\n",
       "      <td>120</td>\n",
       "      <td>0.233333</td>\n",
       "      <td>0.216667</td>\n",
       "      <td>0.266667</td>\n",
       "      <td>0.233333</td>\n",
       "      <td>0.241667</td>\n",
       "      <td>0.250000</td>\n",
       "      <td>1</td>\n",
       "    </tr>\n",
       "    <tr>\n",
       "      <th>59996</th>\n",
       "      <td>-404</td>\n",
       "      <td>117</td>\n",
       "      <td>0.247863</td>\n",
       "      <td>0.239316</td>\n",
       "      <td>0.205128</td>\n",
       "      <td>0.226891</td>\n",
       "      <td>0.218487</td>\n",
       "      <td>0.252101</td>\n",
       "      <td>0</td>\n",
       "    </tr>\n",
       "    <tr>\n",
       "      <th>59997</th>\n",
       "      <td>-847</td>\n",
       "      <td>120</td>\n",
       "      <td>0.233333</td>\n",
       "      <td>0.208333</td>\n",
       "      <td>0.275000</td>\n",
       "      <td>0.233333</td>\n",
       "      <td>0.208333</td>\n",
       "      <td>0.258333</td>\n",
       "      <td>1</td>\n",
       "    </tr>\n",
       "    <tr>\n",
       "      <th>59998</th>\n",
       "      <td>-201</td>\n",
       "      <td>75</td>\n",
       "      <td>0.200000</td>\n",
       "      <td>0.226667</td>\n",
       "      <td>0.293333</td>\n",
       "      <td>0.207792</td>\n",
       "      <td>0.181818</td>\n",
       "      <td>0.298701</td>\n",
       "      <td>0</td>\n",
       "    </tr>\n",
       "    <tr>\n",
       "      <th>59999</th>\n",
       "      <td>-770</td>\n",
       "      <td>120</td>\n",
       "      <td>0.237705</td>\n",
       "      <td>0.122951</td>\n",
       "      <td>0.295082</td>\n",
       "      <td>0.208333</td>\n",
       "      <td>0.216667</td>\n",
       "      <td>0.266667</td>\n",
       "      <td>1</td>\n",
       "    </tr>\n",
       "  </tbody>\n",
       "</table>\n",
       "<p>60000 rows × 9 columns</p>\n",
       "</div>"
      ],
      "text/plain": [
       "         0    1         2         3         4         5         6         7  8\n",
       "0     -315   75  0.205128  0.230769  0.307692  0.146667  0.280000  0.240000  0\n",
       "1     -243   75  0.213333  0.186667  0.293333  0.400000  0.253333  0.186667  0\n",
       "2     -289   77  0.192308  0.230769  0.282051  0.220779  0.220779  0.272727  0\n",
       "3     -776  118  0.271186  0.203390  0.271186  0.200000  0.200000  0.291667  1\n",
       "4     -388   77  0.226190  0.238095  0.250000  0.272727  0.272727  0.207792  1\n",
       "...    ...  ...       ...       ...       ...       ...       ...       ... ..\n",
       "59995 -707  120  0.233333  0.216667  0.266667  0.233333  0.241667  0.250000  1\n",
       "59996 -404  117  0.247863  0.239316  0.205128  0.226891  0.218487  0.252101  0\n",
       "59997 -847  120  0.233333  0.208333  0.275000  0.233333  0.208333  0.258333  1\n",
       "59998 -201   75  0.200000  0.226667  0.293333  0.207792  0.181818  0.298701  0\n",
       "59999 -770  120  0.237705  0.122951  0.295082  0.208333  0.216667  0.266667  1\n",
       "\n",
       "[60000 rows x 9 columns]"
      ]
     },
     "execution_count": 4,
     "metadata": {},
     "output_type": "execute_result"
    }
   ],
   "source": [
    "validation"
   ]
  },
  {
   "cell_type": "code",
   "execution_count": 5,
   "id": "a3a71fe7",
   "metadata": {},
   "outputs": [
    {
     "name": "stdout",
     "output_type": "stream",
     "text": [
      "Total number of samples in the validation dataset = 60000\n"
     ]
    }
   ],
   "source": [
    "print(\"Total number of samples in the validation dataset = \" +str(validation.shape[0]))"
   ]
  },
  {
   "cell_type": "markdown",
   "id": "238ab297",
   "metadata": {},
   "source": [
    "## Task : B\n",
    "Print two numbers in the format: [n0, n1], where\n",
    "n0 represents number of class=0 (negative) samples and n1 represents number of class=1 (positive) samples in the validation dataset: \"dataset/validation.csv\"\n"
   ]
  },
  {
   "cell_type": "code",
   "execution_count": 6,
   "id": "e6dabf09",
   "metadata": {},
   "outputs": [
    {
     "data": {
      "text/html": [
       "<div>\n",
       "<style scoped>\n",
       "    .dataframe tbody tr th:only-of-type {\n",
       "        vertical-align: middle;\n",
       "    }\n",
       "\n",
       "    .dataframe tbody tr th {\n",
       "        vertical-align: top;\n",
       "    }\n",
       "\n",
       "    .dataframe thead th {\n",
       "        text-align: right;\n",
       "    }\n",
       "</style>\n",
       "<table border=\"1\" class=\"dataframe\">\n",
       "  <thead>\n",
       "    <tr style=\"text-align: right;\">\n",
       "      <th></th>\n",
       "      <th>0</th>\n",
       "      <th>1</th>\n",
       "      <th>2</th>\n",
       "      <th>3</th>\n",
       "      <th>4</th>\n",
       "      <th>5</th>\n",
       "      <th>6</th>\n",
       "      <th>7</th>\n",
       "      <th>8</th>\n",
       "    </tr>\n",
       "  </thead>\n",
       "  <tbody>\n",
       "    <tr>\n",
       "      <th>0</th>\n",
       "      <td>-315</td>\n",
       "      <td>75</td>\n",
       "      <td>0.205128</td>\n",
       "      <td>0.230769</td>\n",
       "      <td>0.307692</td>\n",
       "      <td>0.146667</td>\n",
       "      <td>0.28</td>\n",
       "      <td>0.24</td>\n",
       "      <td>0</td>\n",
       "    </tr>\n",
       "  </tbody>\n",
       "</table>\n",
       "</div>"
      ],
      "text/plain": [
       "     0   1         2         3         4         5     6     7  8\n",
       "0 -315  75  0.205128  0.230769  0.307692  0.146667  0.28  0.24  0"
      ]
     },
     "execution_count": 6,
     "metadata": {},
     "output_type": "execute_result"
    }
   ],
   "source": [
    "validation.iloc[0:1]"
   ]
  },
  {
   "cell_type": "code",
   "execution_count": 7,
   "id": "c860624a",
   "metadata": {},
   "outputs": [
    {
     "name": "stdout",
     "output_type": "stream",
     "text": [
      "[40060,19940]\n"
     ]
    }
   ],
   "source": [
    "n0=0\n",
    "n1=0\n",
    "\n",
    "for sample in validation[8]:\n",
    "    if sample == 0:\n",
    "        n0 = n0 + 1\n",
    "    elif sample == 1:\n",
    "        n1 = n1 + 1\n",
    "print(\"[\" +str(n0) + \",\" +str(n1) +\"]\")\n",
    "        "
   ]
  },
  {
   "cell_type": "markdown",
   "id": "27e9d539",
   "metadata": {},
   "source": [
    "## Task : C\n",
    "Print standard deviation of the second feature: \"The length of shorter sequence\" of the validation dataset: \"dataset/validation.csv\""
   ]
  },
  {
   "cell_type": "code",
   "execution_count": 8,
   "id": "aea36c91",
   "metadata": {},
   "outputs": [],
   "source": [
    "stdev = validation[1].std()"
   ]
  },
  {
   "cell_type": "code",
   "execution_count": 9,
   "id": "8d0876ea",
   "metadata": {},
   "outputs": [
    {
     "name": "stdout",
     "output_type": "stream",
     "text": [
      "Standard deviation of the second feature = 21.278652371559346\n"
     ]
    }
   ],
   "source": [
    "print(\"Standard deviation of the second feature = \" +str(stdev))"
   ]
  },
  {
   "cell_type": "markdown",
   "id": "25100733",
   "metadata": {},
   "source": [
    "## Task : D\n",
    "Print median (i.e., 50% percentile) of the seventh feature: \"'U' frequencies of sequence 2\" of the validation dataset: \"dataset/validation.csv\""
   ]
  },
  {
   "cell_type": "code",
   "execution_count": 10,
   "id": "6f148e0a",
   "metadata": {},
   "outputs": [],
   "source": [
    "med = validation[6].median()"
   ]
  },
  {
   "cell_type": "code",
   "execution_count": 11,
   "id": "184f330d",
   "metadata": {},
   "outputs": [
    {
     "name": "stdout",
     "output_type": "stream",
     "text": [
      "Median of the seventh feature = 0.2203389999999999\n"
     ]
    }
   ],
   "source": [
    "print(\"Median of the seventh feature = \" +str(med))"
   ]
  },
  {
   "cell_type": "markdown",
   "id": "b3ca953f",
   "metadata": {},
   "source": [
    "## Task : E\n",
    "Complete the function \"confusion_matrix\" partially defined that takes two arrays of target variable \"y\": y_actual and y_pred denoting ground truth class labels and predicted class labels for the N samples when N is the length of both the arrays. The function should return a list of 4 metrics: TN, FP, FN, TP (in this order)."
   ]
  },
  {
   "cell_type": "code",
   "execution_count": 12,
   "id": "fe603a00",
   "metadata": {},
   "outputs": [],
   "source": [
    "def confusion_matrix(y_actual, y_pred):\n",
    "    # the function takes two arrays of target variable \"y\": y_actual and y_pred\n",
    "    #    denoting ground truth class labels and predicted class labels for the N samples\n",
    "    #    when N is the length of both the arrays.\n",
    "    # The function should return a list of 4 metrics: TN, FP, FN, TP (in this order).\n",
    "    assert(len(y_actual)==len(y_pred))\n",
    "    \n",
    "    TP = 0\n",
    "    FP = 0\n",
    "    TN = 0\n",
    "    FN = 0\n",
    "\n",
    "    #@TODO\n",
    "    for i in range(len(y_actual)):\n",
    "    \n",
    "        #True Positives\n",
    "        if y_actual[i] == 1 and y_pred[i] == 1:\n",
    "            TP = TP + 1\n",
    "        \n",
    "        #False Negatives\n",
    "        elif y_actual[i] == 1 and y_pred[i] == 0:\n",
    "            FN = FN + 1\n",
    "        \n",
    "        #True Negatives\n",
    "        elif y_actual[i] == 0 and y_pred[i] == 0:\n",
    "            TN = TN + 1\n",
    "            \n",
    "        #False Positives\n",
    "        elif y_actual[i] == 0 and y_pred[i] == 1:\n",
    "            FP = FP + 1\n",
    "        \n",
    "    \n",
    "\n",
    "    return [TN,FP, FN, TP]"
   ]
  },
  {
   "cell_type": "code",
   "execution_count": 13,
   "id": "68881de0",
   "metadata": {},
   "outputs": [
    {
     "name": "stdout",
     "output_type": "stream",
     "text": [
      "[1, 0, 1, 2]\n"
     ]
    }
   ],
   "source": [
    "print(confusion_matrix([1, 0, 1, 1], [0, 0, 1, 1])) #Expected to print: [1, 0, 1, 2]"
   ]
  },
  {
   "cell_type": "markdown",
   "id": "09c4a133",
   "metadata": {},
   "source": [
    "## Task : F\n",
    "You need to complete the accuracy function partially defined in the file that takes a confusion matrix, i.e. the list of the four metrics: [TN, FP, FN, TP], in this order, and return accuracy. In case of Division by Zero error, return -1."
   ]
  },
  {
   "cell_type": "code",
   "execution_count": 14,
   "id": "1524c6bb",
   "metadata": {},
   "outputs": [],
   "source": [
    "def accuracy(conf_mat):\n",
    "    # Given a confusion matrix, i.e. the list of four metrics: [TN,FP, FN, TP], in this order\n",
    "    # return accuracy\n",
    "    [TN, FP, FN, TP] = conf_mat\n",
    "    \n",
    "    acc_value = 0\n",
    "    \n",
    "    #@TODO\n",
    "    \n",
    "    try:\n",
    "        acc_value = (TP + TN) / (TN + FP + FN + TP)\n",
    "    except ZeroDivisionError:\n",
    "        return -1\n",
    "    \n",
    "    \n",
    "    return acc_value"
   ]
  },
  {
   "cell_type": "code",
   "execution_count": 15,
   "id": "610b9b52",
   "metadata": {},
   "outputs": [
    {
     "name": "stdout",
     "output_type": "stream",
     "text": [
      "0.75\n"
     ]
    }
   ],
   "source": [
    "conf_mat = confusion_matrix([1, 0, 1, 1], [0, 0, 1, 1])  #Expected to print 0.75\n",
    "print(accuracy(conf_mat))"
   ]
  },
  {
   "cell_type": "markdown",
   "id": "b2aa78b6",
   "metadata": {},
   "source": [
    "## Task : G\n",
    "You need to complete the precision function partially defined in the file that takes a confusion matrix, i.e. the list of the four metrics: [TN, FP, FN, TP], in this order, and return precision. It is also known as Positive Predictive Value (PPV). In case of Division by Zero error, return -1."
   ]
  },
  {
   "cell_type": "code",
   "execution_count": 16,
   "id": "c6eb55f6",
   "metadata": {},
   "outputs": [],
   "source": [
    "def precision(conf_mat):\n",
    "    # Given a confusion matrix, i.e. the list of four metrics: [TN,FP, FN, TP], in this order\n",
    "    # return precision. It is also known as Positive Predictive Value (PPV)\n",
    "    [TN, FP, FN, TP] = conf_mat\n",
    "    prec_value = 0\n",
    "    \n",
    "    \n",
    "    #@TODO\n",
    "    try:\n",
    "        prec_value = TP / (TP + FP)\n",
    "    except ZeroDivisionError:\n",
    "        return -1\n",
    "        \n",
    "    \n",
    "    return prec_value"
   ]
  },
  {
   "cell_type": "code",
   "execution_count": 17,
   "id": "34c02590",
   "metadata": {},
   "outputs": [
    {
     "name": "stdout",
     "output_type": "stream",
     "text": [
      "1.0\n"
     ]
    }
   ],
   "source": [
    "conf_mat = confusion_matrix([1, 0, 1, 1], [0, 0, 1, 1])  #Expected to print 1.0\n",
    "print(precision(conf_mat))"
   ]
  },
  {
   "cell_type": "markdown",
   "id": "e90ba6fe",
   "metadata": {},
   "source": [
    "## Task : H\n",
    "You need to complete the recall function partially defined in the file that takes a confusion matrix, i.e. the list of the four metrics: [TN, FP, FN, TP], in this order, and return recall. It is also known as Sensitivity, or True Positive Rate (TPR). In case of Division by Zero error, return -1."
   ]
  },
  {
   "cell_type": "code",
   "execution_count": 18,
   "id": "501cd309",
   "metadata": {},
   "outputs": [],
   "source": [
    "def recall(conf_mat):\n",
    "    # Given a confusion matrix, i.e. the list of four metrics: [TN,FP, FN, TP], in this order\n",
    "    # return recall. It is also known as Sensitivity, or True Positive Rate (TPR)\n",
    "    [TN, FP, FN, TP] = conf_mat\n",
    "    rec_value = 0\n",
    "    \n",
    "    #@TODO\n",
    "    try: \n",
    "        rec_value = TP / (TP + FN)\n",
    "    except ZeroDivisionError:\n",
    "        return -1\n",
    "    \n",
    "    return rec_value"
   ]
  },
  {
   "cell_type": "code",
   "execution_count": 19,
   "id": "b29ef9b8",
   "metadata": {},
   "outputs": [
    {
     "name": "stdout",
     "output_type": "stream",
     "text": [
      "0.6666666666666666\n"
     ]
    }
   ],
   "source": [
    "conf_mat = confusion_matrix([1, 0, 1, 1], [0, 0, 1, 1])  #Expected to print 0.6666666666\n",
    "print(recall(conf_mat))"
   ]
  },
  {
   "cell_type": "markdown",
   "id": "91f6c9a3",
   "metadata": {},
   "source": [
    "## Task : I\n",
    "You need to complete the F1 function partially defined in the file that takes a confusion matrix, i.e. the list of the four metrics: [TN, FP, FN, TP], in this order, and return F1. It is the harmonic mean of precision and recall. In case of Division by Zero error, return -1."
   ]
  },
  {
   "cell_type": "code",
   "execution_count": 20,
   "id": "cab4cd5e",
   "metadata": {},
   "outputs": [],
   "source": [
    "def F1(conf_mat):\n",
    "    # Given a confusion matrix, i.e. the list of four metrics: [TN,FP, FN, TP], in this order\n",
    "    # return F1 score. It is the harmonic mean of precision and recall\n",
    "    [TN, FP, FN, TP] = conf_mat\n",
    "    f1_value = 0\n",
    "    \n",
    "    #@TODO\n",
    "    try:\n",
    "        f1_value = (2 * precision(conf_mat) * recall(conf_mat)) / (precision(conf_mat) + recall(conf_mat))\n",
    "    except ZeroDivisionError:\n",
    "        return -1\n",
    "    \n",
    "    return f1_value"
   ]
  },
  {
   "cell_type": "code",
   "execution_count": 21,
   "id": "fcc93aab",
   "metadata": {},
   "outputs": [
    {
     "name": "stdout",
     "output_type": "stream",
     "text": [
      "0.8\n"
     ]
    }
   ],
   "source": [
    "conf_mat = confusion_matrix([1, 0, 1, 1], [0, 0, 1, 1]) #Expected to print 0.8\n",
    "print(F1(conf_mat))"
   ]
  },
  {
   "cell_type": "markdown",
   "id": "2128d772",
   "metadata": {},
   "source": [
    "## Task : J\n",
    "You need to complete the MCC function defined in the file that takes a confusion matrix, i.e. the list of the four metrics: [TN, FP, FN, TP], in this order, and return Matthews Correlation Coefficient (MCC). In case of Division by Zero error, return -1."
   ]
  },
  {
   "cell_type": "code",
   "execution_count": 22,
   "id": "01ca3913",
   "metadata": {},
   "outputs": [],
   "source": [
    "import math \n",
    "\n",
    "def MCC(conf_mat):\n",
    "    # Given a confusion matrix, i.e. the list of four metrics: [TN,FP, FN, TP], in this order\n",
    "    # return Matthews correlation coefficient (MCC)\n",
    "    [TN, FP, FN, TP] = conf_mat\n",
    "    mcc_value = 0\n",
    "    \n",
    "    #@TODO\n",
    "    try:\n",
    "        mcc_value = (TN * TP - FN * FP) / math.sqrt((TP + FP) * (TP + FN) * (TN + FP) * (TN + FN))\n",
    "    except ZeroDivisionError:\n",
    "        return -1\n",
    "    \n",
    "    \n",
    "    return mcc_value"
   ]
  },
  {
   "cell_type": "code",
   "execution_count": 23,
   "id": "6b8284c2",
   "metadata": {},
   "outputs": [
    {
     "name": "stdout",
     "output_type": "stream",
     "text": [
      "0.5773502691896258\n"
     ]
    }
   ],
   "source": [
    "conf_mat = confusion_matrix([1, 0, 1, 1], [0, 0, 1, 1]) #Expected to print 0.5773502691896258\n",
    "print(MCC(conf_mat))"
   ]
  },
  {
   "cell_type": "markdown",
   "id": "be81ef54",
   "metadata": {},
   "source": [
    "## Task : K\n",
    "You need to complete the FDR function defined in the file that takes a confusion matrix, i.e. the list of the four metrics: [TN, FP, FN, TP], in this order, and return False Discovery Rate (FDR). In case of Division by Zero error, return -1"
   ]
  },
  {
   "cell_type": "code",
   "execution_count": 24,
   "id": "15bf9850",
   "metadata": {},
   "outputs": [],
   "source": [
    "def FDR(conf_mat):\n",
    "    # Given a confusion matrix, i.e. the list of four metrics: [TN,FP, FN, TP], in this order\n",
    "    # return False Discovery Rate (FDR)\n",
    "    [TN, FP, FN, TP] = conf_mat\n",
    "    fdr_value = 0\n",
    "    \n",
    "    #@TODO\n",
    "    try:\n",
    "        fdr_value = FP / (FP + TP)\n",
    "    except ZeroDivisionError:\n",
    "        return -1\n",
    "    \n",
    "    return fdr_value"
   ]
  },
  {
   "cell_type": "code",
   "execution_count": 25,
   "id": "dffbe6d1",
   "metadata": {},
   "outputs": [
    {
     "name": "stdout",
     "output_type": "stream",
     "text": [
      "0.0\n"
     ]
    }
   ],
   "source": [
    "conf_mat = confusion_matrix([1, 0, 1, 1], [0, 0, 1, 1]) #Expected to print 0.0\n",
    "print(FDR(conf_mat))"
   ]
  },
  {
   "cell_type": "markdown",
   "id": "9614d2f8",
   "metadata": {},
   "source": [
    "## Task : L\n",
    "Print as a dataframe containing:\n",
    " {model_name,acc,prec,rec,f1,mcc,FDR} for each of the N models (listed in models/*) after predicting the target variables of the validation data: \"dataset/validation.csv\"\n"
   ]
  },
  {
   "cell_type": "code",
   "execution_count": 26,
   "id": "85e17a26",
   "metadata": {},
   "outputs": [
    {
     "name": "stderr",
     "output_type": "stream",
     "text": [
      "  0%|                                                     | 0/6 [00:00<?, ?it/s]/var/folders/yy/pk8ymktn2997l12961d0jwnh0000gn/T/ipykernel_64809/3109766834.py:52: FutureWarning: The frame.append method is deprecated and will be removed from pandas in a future version. Use pandas.concat instead.\n",
      "  result = result.append(pd.Series([file_name,acc,prec,rec,f1,mcc,fdr],index=result.columns),ignore_index=True)\n",
      " 17%|███████▌                                     | 1/6 [00:00<00:02,  1.98it/s]/Users/sharathkrishna/.pyenv/versions/3.8.6/lib/python3.8/site-packages/sklearn/neighbors/_classification.py:211: FutureWarning: Unlike other reduction functions (e.g. `skew`, `kurtosis`), the default behavior of `mode` typically preserves the axis it acts along. In SciPy 1.11.0, this behavior will change: the default value of `keepdims` will become False, the `axis` over which the statistic is taken will be eliminated, and the value None will no longer be accepted. Set `keepdims` to True or False to avoid this warning.\n",
      "  mode, _ = stats.mode(_y[neigh_ind, k], axis=1)\n",
      "/var/folders/yy/pk8ymktn2997l12961d0jwnh0000gn/T/ipykernel_64809/3109766834.py:52: FutureWarning: The frame.append method is deprecated and will be removed from pandas in a future version. Use pandas.concat instead.\n",
      "  result = result.append(pd.Series([file_name,acc,prec,rec,f1,mcc,fdr],index=result.columns),ignore_index=True)\n",
      " 33%|███████████████                              | 2/6 [00:02<00:05,  1.47s/it]/var/folders/yy/pk8ymktn2997l12961d0jwnh0000gn/T/ipykernel_64809/3109766834.py:52: FutureWarning: The frame.append method is deprecated and will be removed from pandas in a future version. Use pandas.concat instead.\n",
      "  result = result.append(pd.Series([file_name,acc,prec,rec,f1,mcc,fdr],index=result.columns),ignore_index=True)\n",
      " 50%|██████████████████████▌                      | 3/6 [00:46<01:02, 20.87s/it]/var/folders/yy/pk8ymktn2997l12961d0jwnh0000gn/T/ipykernel_64809/3109766834.py:52: FutureWarning: The frame.append method is deprecated and will be removed from pandas in a future version. Use pandas.concat instead.\n",
      "  result = result.append(pd.Series([file_name,acc,prec,rec,f1,mcc,fdr],index=result.columns),ignore_index=True)\n",
      " 67%|██████████████████████████████               | 4/6 [00:47<00:25, 12.87s/it]/var/folders/yy/pk8ymktn2997l12961d0jwnh0000gn/T/ipykernel_64809/3109766834.py:52: FutureWarning: The frame.append method is deprecated and will be removed from pandas in a future version. Use pandas.concat instead.\n",
      "  result = result.append(pd.Series([file_name,acc,prec,rec,f1,mcc,fdr],index=result.columns),ignore_index=True)\n",
      " 83%|█████████████████████████████████████▌       | 5/6 [00:47<00:08,  8.41s/it]/var/folders/yy/pk8ymktn2997l12961d0jwnh0000gn/T/ipykernel_64809/3109766834.py:52: FutureWarning: The frame.append method is deprecated and will be removed from pandas in a future version. Use pandas.concat instead.\n",
      "  result = result.append(pd.Series([file_name,acc,prec,rec,f1,mcc,fdr],index=result.columns),ignore_index=True)\n",
      "100%|█████████████████████████████████████████████| 6/6 [00:59<00:00,  9.99s/it]\n"
     ]
    }
   ],
   "source": [
    "#Print as a dataframe containing:\n",
    "# {model_name,acc,prec,rec,f1,mcc,FDR} for each of the N models (listed in model_files) predicting the target variables\n",
    "#  of the validation data.\n",
    "import pickle\n",
    "import numpy as np\n",
    "import pandas as pd\n",
    "import sys\n",
    "import os\n",
    "from tqdm import tqdm\n",
    "from sklearn.linear_model import LogisticRegression\n",
    "from sklearn.neural_network import MLPClassifier\n",
    "from sklearn import tree\n",
    "from sklearn.svm import SVC\n",
    "from sklearn.neighbors import KNeighborsClassifier\n",
    "result = pd.DataFrame(columns=['model_name','Accuracy','Precision','Recall','F1','MCC','FDR'])\n",
    "\n",
    "model_files=[\"models/Model_1.pkl\",\"models/Model_2.pkl\",\"models/Model_3.pkl\",\\\n",
    "                            \"models/Model_4.pkl\",\"models/Model_5.pkl\",\"models/Model_6.pkl\"]\n",
    "\n",
    "\n",
    "for file_name in tqdm(model_files):\n",
    "    in_file = open(file_name,'rb')\n",
    "    model = pickle.load(in_file)\n",
    "    in_file.close()\n",
    "\n",
    "    #Do the prediction by calling the \"predict\" member function of the model object on the\n",
    "    # validation data with the 8 features\n",
    "    X_test = validation.iloc[:,:-1]\n",
    "    y_test = validation.iloc[:,-1]\n",
    "    y_pred = model.predict(X_test)\n",
    "    \n",
    "    \n",
    "    #@TODO: Complete and revise the following...\n",
    "    conf_mat = []\n",
    "    acc = 0\n",
    "    prec = 0\n",
    "    rec = 0\n",
    "    f1 = 0\n",
    "    mcc = 0\n",
    "    fdr = 0\n",
    "    \n",
    "    conf_mat = confusion_matrix(y_test, y_pred)\n",
    "    \n",
    "    acc = accuracy(conf_mat)\n",
    "    prec = precision(conf_mat)\n",
    "    rec = recall(conf_mat)\n",
    "    f1 = F1(conf_mat)\n",
    "    mcc = MCC(conf_mat)\n",
    "    fdr = FDR(conf_mat)\n",
    "    \n",
    "    \n",
    "    result = result.append(pd.Series([file_name,acc,prec,rec,f1,mcc,fdr],index=result.columns),ignore_index=True)\n"
   ]
  },
  {
   "cell_type": "code",
   "execution_count": 27,
   "id": "eab79ef9",
   "metadata": {},
   "outputs": [
    {
     "name": "stdout",
     "output_type": "stream",
     "text": [
      "           model_name  Accuracy  Precision   Recall        F1       MCC  \\\n",
      "0  models/Model_1.pkl  0.337583   0.334082  0.99995  0.500835  0.050929   \n",
      "1  models/Model_2.pkl  0.334083   0.332910  0.99995  0.499518  0.028982   \n",
      "2  models/Model_3.pkl  0.667667  -1.000000  0.00000  0.000000 -1.000000   \n",
      "3  models/Model_4.pkl  0.390483   0.352497  0.99659  0.520789  0.168805   \n",
      "4  models/Model_5.pkl  0.333583   0.332744  0.99995  0.499330  0.024302   \n",
      "5  models/Model_6.pkl  0.337500   0.334054  0.99995  0.500804  0.050516   \n",
      "\n",
      "        FDR  \n",
      "0  0.665918  \n",
      "1  0.667090  \n",
      "2 -1.000000  \n",
      "3  0.647503  \n",
      "4  0.667256  \n",
      "5  0.665946  \n"
     ]
    }
   ],
   "source": [
    "print(result)"
   ]
  },
  {
   "cell_type": "markdown",
   "id": "1388167d",
   "metadata": {},
   "source": [
    "## Task : M\n",
    "Print the model name with path which is performing superior among the 6 pretrained models in terms of accuracy, given the performance result dataframe from “L”"
   ]
  },
  {
   "cell_type": "code",
   "execution_count": 28,
   "id": "1552ca2d",
   "metadata": {},
   "outputs": [
    {
     "data": {
      "text/plain": [
       "model_name    models/Model_3.pkl\n",
       "Accuracy                0.667667\n",
       "Name: 2, dtype: object"
      ]
     },
     "execution_count": 28,
     "metadata": {},
     "output_type": "execute_result"
    }
   ],
   "source": [
    "result.iloc[result.Accuracy.argmax(), 0:2]"
   ]
  },
  {
   "cell_type": "markdown",
   "id": "fa229f32",
   "metadata": {},
   "source": [
    "## Task : N\n",
    "Print the model name with path which is performing the worst among the 6 pretrained models in terms of recall, given the performance result dataframe from “L”"
   ]
  },
  {
   "cell_type": "code",
   "execution_count": 29,
   "id": "e940ab1c",
   "metadata": {},
   "outputs": [
    {
     "data": {
      "text/plain": [
       "model_name    models/Model_3.pkl\n",
       "Recall                       0.0\n",
       "Name: 2, dtype: object"
      ]
     },
     "execution_count": 29,
     "metadata": {},
     "output_type": "execute_result"
    }
   ],
   "source": [
    "result.iloc[result.Recall.argmin(), [0,3]]"
   ]
  },
  {
   "cell_type": "markdown",
   "id": "e1a6aac4",
   "metadata": {},
   "source": [
    "## Task : O\n",
    "Scale all the features of the validation set using the formula, z = (x-m)/s,\n",
    "    \n",
    "    where m = mean of a feature in the training set: \"dataset/training.csv\"\n",
    "    \n",
    "    s = standard deviation of the feature in the training set: \"dataset/training.csv\"\n",
    "    \n",
    "    #  DO NOT SCALE the target feature.\n",
    "    \n",
    "    # At the end, return a tuple (X, y), with X being a numpy array of shape (N,8) and y is an N dim array and \n",
    "\n",
    "N is the total number of samples in the validation set: \"dataset/validation.csv\".\n",
    "\n",
    "Store the scaled dataset in a variable (preferably a dataframe) named “X_validation_scaled”.\n"
   ]
  },
  {
   "cell_type": "code",
   "execution_count": 30,
   "id": "0aa491fc",
   "metadata": {},
   "outputs": [
    {
     "name": "stdout",
     "output_type": "stream",
     "text": [
      "              0         1         2         3         4         5         6  \\\n",
      "0      0.775328 -1.002997 -0.325953  0.167255  1.069653 -1.676320  1.387452   \n",
      "1      1.155149 -1.002997 -0.163911 -0.761209  0.723327  3.906838  0.758204   \n",
      "2      0.912485 -0.910311 -0.579139  0.167255  0.451215 -0.042980 -0.009957   \n",
      "3     -1.656587  0.989744  0.978644 -0.409145  0.189161 -0.500924 -0.500269   \n",
      "4      0.390230 -0.910311  0.090006  0.321487 -0.321826  1.101893  1.215834   \n",
      "...         ...       ...       ...       ...       ...       ...       ...   \n",
      "59995 -1.292591  1.082430  0.231075 -0.129629  0.080167  0.233696  0.482927   \n",
      "59996  0.305826  0.943401  0.518031  0.347192 -1.404098  0.091722 -0.064040   \n",
      "59997 -2.031134  1.082430  0.231075 -0.305082  0.281151  0.233696 -0.303639   \n",
      "59998  1.376712 -1.002997 -0.427228  0.080897  0.723327 -0.329198 -0.929301   \n",
      "59999 -1.624935  1.082430  0.317418 -2.102599  0.765511 -0.317275 -0.106986   \n",
      "\n",
      "              7  8  \n",
      "0     -0.658364  0  \n",
      "1     -2.059975  0  \n",
      "2      0.201713  0  \n",
      "3      0.699464  1  \n",
      "4     -1.504802  1  \n",
      "...         ... ..  \n",
      "59995 -0.395560  1  \n",
      "59996 -0.340345  0  \n",
      "59997 -0.176566  1  \n",
      "59998  0.884320  0  \n",
      "59999  0.042454  1  \n",
      "\n",
      "[60000 rows x 9 columns]\n",
      "(60000, 9)\n"
     ]
    }
   ],
   "source": [
    "\n",
    "X_validation_scaled = pd.DataFrame(validation)\n",
    "\n",
    "for feature in training.columns:\n",
    "    if feature == 8:   \n",
    "        break\n",
    "    #Mean of a feature in training set   \n",
    "    mean = training.mean()\n",
    "    \n",
    "    #Std of a feature in training set\n",
    "    std = training.std()\n",
    "    \n",
    "for attribute in validation:\n",
    "    if attribute == 8:\n",
    "        break\n",
    "    X_validation_scaled[attribute] = (validation[attribute] - mean[attribute]) / std[attribute]\n",
    "    \n",
    "print(X_validation_scaled)\n",
    "    \n",
    "print(X_validation_scaled.shape)\n"
   ]
  },
  {
   "cell_type": "markdown",
   "id": "7c0d7b7c",
   "metadata": {},
   "source": [
    "## Task : P\n",
    "Print as a dataframe containing:\n",
    "  {model_name,acc,prec,rec,f1,mcc,FDR} for each of the N models (listed in model_files) after  predicting the target variables \"y\" (given) for \"X\" (the scaled validation dataset).\n"
   ]
  },
  {
   "cell_type": "code",
   "execution_count": 31,
   "id": "4040548b",
   "metadata": {},
   "outputs": [
    {
     "name": "stderr",
     "output_type": "stream",
     "text": [
      "  0%|                                                     | 0/6 [00:00<?, ?it/s]/var/folders/yy/pk8ymktn2997l12961d0jwnh0000gn/T/ipykernel_64809/163416047.py:53: FutureWarning: The frame.append method is deprecated and will be removed from pandas in a future version. Use pandas.concat instead.\n",
      "  result = result.append(pd.Series([file_name,acc,prec,rec,f1,mcc,fdr],index=result.columns),ignore_index=True)\n",
      " 17%|███████▌                                     | 1/6 [00:00<00:02,  2.47it/s]/Users/sharathkrishna/.pyenv/versions/3.8.6/lib/python3.8/site-packages/sklearn/neighbors/_classification.py:211: FutureWarning: Unlike other reduction functions (e.g. `skew`, `kurtosis`), the default behavior of `mode` typically preserves the axis it acts along. In SciPy 1.11.0, this behavior will change: the default value of `keepdims` will become False, the `axis` over which the statistic is taken will be eliminated, and the value None will no longer be accepted. Set `keepdims` to True or False to avoid this warning.\n",
      "  mode, _ = stats.mode(_y[neigh_ind, k], axis=1)\n",
      "/var/folders/yy/pk8ymktn2997l12961d0jwnh0000gn/T/ipykernel_64809/163416047.py:53: FutureWarning: The frame.append method is deprecated and will be removed from pandas in a future version. Use pandas.concat instead.\n",
      "  result = result.append(pd.Series([file_name,acc,prec,rec,f1,mcc,fdr],index=result.columns),ignore_index=True)\n",
      " 33%|███████████████                              | 2/6 [00:04<00:09,  2.42s/it]/var/folders/yy/pk8ymktn2997l12961d0jwnh0000gn/T/ipykernel_64809/163416047.py:53: FutureWarning: The frame.append method is deprecated and will be removed from pandas in a future version. Use pandas.concat instead.\n",
      "  result = result.append(pd.Series([file_name,acc,prec,rec,f1,mcc,fdr],index=result.columns),ignore_index=True)\n",
      " 50%|██████████████████████▌                      | 3/6 [00:52<01:09, 23.15s/it]/var/folders/yy/pk8ymktn2997l12961d0jwnh0000gn/T/ipykernel_64809/163416047.py:53: FutureWarning: The frame.append method is deprecated and will be removed from pandas in a future version. Use pandas.concat instead.\n",
      "  result = result.append(pd.Series([file_name,acc,prec,rec,f1,mcc,fdr],index=result.columns),ignore_index=True)\n",
      " 67%|██████████████████████████████               | 4/6 [00:52<00:28, 14.21s/it]/var/folders/yy/pk8ymktn2997l12961d0jwnh0000gn/T/ipykernel_64809/163416047.py:53: FutureWarning: The frame.append method is deprecated and will be removed from pandas in a future version. Use pandas.concat instead.\n",
      "  result = result.append(pd.Series([file_name,acc,prec,rec,f1,mcc,fdr],index=result.columns),ignore_index=True)\n",
      " 83%|█████████████████████████████████████▌       | 5/6 [00:52<00:09,  9.24s/it]/var/folders/yy/pk8ymktn2997l12961d0jwnh0000gn/T/ipykernel_64809/163416047.py:53: FutureWarning: The frame.append method is deprecated and will be removed from pandas in a future version. Use pandas.concat instead.\n",
      "  result = result.append(pd.Series([file_name,acc,prec,rec,f1,mcc,fdr],index=result.columns),ignore_index=True)\n",
      "100%|█████████████████████████████████████████████| 6/6 [01:05<00:00, 10.84s/it]\n"
     ]
    }
   ],
   "source": [
    "#@TODO\n",
    "#Print as a dataframe containing:\n",
    "# {model_name,acc,prec,rec,f1,mcc,FDR} for each of the N models (listed in model_files) predicting the target variables\n",
    "#  of the validation data.\n",
    "import pickle\n",
    "import numpy as np\n",
    "import pandas as pd\n",
    "import sys\n",
    "import os\n",
    "from tqdm import tqdm\n",
    "from sklearn.linear_model import LogisticRegression\n",
    "from sklearn.neural_network import MLPClassifier\n",
    "from sklearn import tree\n",
    "from sklearn.svm import SVC\n",
    "from sklearn.neighbors import KNeighborsClassifier\n",
    "result = pd.DataFrame(columns=['model_name','Accuracy','Precision','Recall','F1','MCC','FDR'])\n",
    "\n",
    "model_files=[\"models/Model_1.pkl\",\"models/Model_2.pkl\",\"models/Model_3.pkl\",\\\n",
    "                            \"models/Model_4.pkl\",\"models/Model_5.pkl\",\"models/Model_6.pkl\"]\n",
    "\n",
    "\n",
    "for file_name in tqdm(model_files):\n",
    "    in_file = open(file_name,'rb')\n",
    "    model = pickle.load(in_file)\n",
    "    in_file.close()\n",
    "\n",
    "    #Do the prediction by calling the \"predict\" member function of the model object on the\n",
    "    # validation data with the 8 features\n",
    "    X_test = X_validation_scaled.iloc[:,:-1]\n",
    "    y_test = X_validation_scaled.iloc[:,-1]\n",
    "    y_pred = model.predict(X_test)\n",
    "    \n",
    "    \n",
    "    #@TODO: Complete and revise the following...\n",
    "    conf_mat = []\n",
    "    acc = 0\n",
    "    prec = 0\n",
    "    rec = 0\n",
    "    f1 = 0\n",
    "    mcc = 0\n",
    "    fdr = 0\n",
    "    \n",
    "    conf_mat = confusion_matrix(y_test, y_pred)\n",
    "    \n",
    "    acc = accuracy(conf_mat)\n",
    "    prec = precision(conf_mat)\n",
    "    rec = recall(conf_mat)\n",
    "    f1 = F1(conf_mat)\n",
    "    mcc = MCC(conf_mat)\n",
    "    fdr = FDR(conf_mat)\n",
    "    \n",
    "    \n",
    "    result = result.append(pd.Series([file_name,acc,prec,rec,f1,mcc,fdr],index=result.columns),ignore_index=True)\n"
   ]
  },
  {
   "cell_type": "code",
   "execution_count": 32,
   "id": "aa801437",
   "metadata": {},
   "outputs": [
    {
     "name": "stdout",
     "output_type": "stream",
     "text": [
      "           model_name  Accuracy  Precision    Recall        F1       MCC  \\\n",
      "0  models/Model_1.pkl  0.951233   0.944276  0.906770  0.925143  0.889404   \n",
      "1  models/Model_2.pkl  0.947700   0.936597  0.903811  0.919912  0.881411   \n",
      "2  models/Model_3.pkl  0.965283   0.946492  0.949198  0.947843  0.921828   \n",
      "3  models/Model_4.pkl  0.966100   0.948907  0.949097  0.949002  0.923614   \n",
      "4  models/Model_5.pkl  0.914133   0.887770  0.848947  0.867925  0.804802   \n",
      "5  models/Model_6.pkl  0.953883   0.936816  0.923521  0.930121  0.895760   \n",
      "\n",
      "        FDR  \n",
      "0  0.055724  \n",
      "1  0.063403  \n",
      "2  0.053508  \n",
      "3  0.051093  \n",
      "4  0.112230  \n",
      "5  0.063184  \n"
     ]
    }
   ],
   "source": [
    "print(result)"
   ]
  },
  {
   "cell_type": "markdown",
   "id": "0ac093d5",
   "metadata": {},
   "source": [
    "## Task : Q\n",
    "Print the model name with path which is performing superior in terms of accuracy, given the performance result dataframe from “P”"
   ]
  },
  {
   "cell_type": "code",
   "execution_count": 33,
   "id": "be1a6362",
   "metadata": {},
   "outputs": [
    {
     "data": {
      "text/plain": [
       "model_name    models/Model_4.pkl\n",
       "Accuracy                  0.9661\n",
       "Name: 3, dtype: object"
      ]
     },
     "execution_count": 33,
     "metadata": {},
     "output_type": "execute_result"
    }
   ],
   "source": [
    "result.iloc[result.Accuracy.argmax(), 0:2]"
   ]
  },
  {
   "cell_type": "markdown",
   "id": "5249c432",
   "metadata": {},
   "source": [
    "## Task : R\n",
    "Print the model name with path which is performing the worst in terms of recall, given the performance result dataframe from “P”"
   ]
  },
  {
   "cell_type": "code",
   "execution_count": 34,
   "id": "95773261",
   "metadata": {},
   "outputs": [
    {
     "data": {
      "text/plain": [
       "model_name    models/Model_5.pkl\n",
       "Recall                  0.848947\n",
       "Name: 4, dtype: object"
      ]
     },
     "execution_count": 34,
     "metadata": {},
     "output_type": "execute_result"
    }
   ],
   "source": [
    "result.iloc[result.Recall.argmin(), [0,3]]"
   ]
  },
  {
   "cell_type": "markdown",
   "id": "0e6efd5f",
   "metadata": {},
   "source": [
    "## Task : S\n",
    "Flip the prediction of Model 1, and then compute and\n",
    " print as a dataframe containing: {acc,prec,rec,f1,mcc,FDR} \n",
    "on the original (i.e., not-scaled) validation dataset: \"dataset/validation.csv\"\n"
   ]
  },
  {
   "cell_type": "code",
   "execution_count": 35,
   "id": "3c776b84",
   "metadata": {},
   "outputs": [],
   "source": [
    "flip = pd.DataFrame(validation)\n",
    "\n",
    "flip = flip.iloc[:-1].replace({0:1,1:0})\n",
    "#print(flip.iloc[:,-1])"
   ]
  },
  {
   "cell_type": "code",
   "execution_count": 36,
   "id": "129b5a43",
   "metadata": {},
   "outputs": [
    {
     "name": "stderr",
     "output_type": "stream",
     "text": [
      "  0%|                                                     | 0/1 [00:00<?, ?it/s]/var/folders/yy/pk8ymktn2997l12961d0jwnh0000gn/T/ipykernel_64809/4212040728.py:52: FutureWarning: The frame.append method is deprecated and will be removed from pandas in a future version. Use pandas.concat instead.\n",
      "  result = result.append(pd.Series([file_name,acc,prec,rec,f1,mcc,fdr],index=result.columns),ignore_index=True)\n",
      "100%|█████████████████████████████████████████████| 1/1 [00:00<00:00,  2.24it/s]\n"
     ]
    }
   ],
   "source": [
    "#@TODO\n",
    "#Print as a dataframe containing:\n",
    "# {model_name,acc,prec,rec,f1,mcc,FDR} for each of the N models (listed in model_files) predicting the target variables\n",
    "#  of the validation data.\n",
    "import pickle\n",
    "import numpy as np\n",
    "import pandas as pd\n",
    "import sys\n",
    "import os\n",
    "from tqdm import tqdm\n",
    "from sklearn.linear_model import LogisticRegression\n",
    "from sklearn.neural_network import MLPClassifier\n",
    "from sklearn import tree\n",
    "from sklearn.svm import SVC\n",
    "from sklearn.neighbors import KNeighborsClassifier\n",
    "result = pd.DataFrame(columns=['model_name','Accuracy','Precision','Recall','F1','MCC','FDR'])\n",
    "\n",
    "model_files=[\"models/Model_1.pkl\"]\n",
    "\n",
    "\n",
    "for file_name in tqdm(model_files):\n",
    "    in_file = open(file_name,'rb')\n",
    "    model = pickle.load(in_file)\n",
    "    in_file.close()\n",
    "\n",
    "    #Do the prediction by calling the \"predict\" member function of the model object on the\n",
    "    # validation data with the 8 features\n",
    "    X_test = flip.iloc[:,:-1]\n",
    "    y_test = flip.iloc[:,-1]\n",
    "    y_pred = model.predict(X_test)\n",
    "    \n",
    "    \n",
    "    #@TODO: Complete and revise the following...\n",
    "    conf_mat = []\n",
    "    acc = 0\n",
    "    prec = 0\n",
    "    rec = 0\n",
    "    f1 = 0\n",
    "    mcc = 0\n",
    "    fdr = 0\n",
    "    \n",
    "    conf_mat = confusion_matrix(y_test, y_pred)\n",
    "    \n",
    "    acc = accuracy(conf_mat)\n",
    "    prec = precision(conf_mat)\n",
    "    rec = recall(conf_mat)\n",
    "    f1 = F1(conf_mat)\n",
    "    mcc = MCC(conf_mat)\n",
    "    fdr = FDR(conf_mat)\n",
    "    \n",
    "    \n",
    "    result = result.append(pd.Series([file_name,acc,prec,rec,f1,mcc,fdr],index=result.columns),ignore_index=True)\n"
   ]
  },
  {
   "cell_type": "code",
   "execution_count": 37,
   "id": "1e94fa65",
   "metadata": {},
   "outputs": [
    {
     "name": "stdout",
     "output_type": "stream",
     "text": [
      "           model_name  Accuracy  Precision    Recall        F1     MCC  \\\n",
      "0  models/Model_1.pkl  0.048767   0.055727  0.026635  0.036043 -0.8894   \n",
      "\n",
      "        FDR  \n",
      "0  0.944273  \n"
     ]
    }
   ],
   "source": [
    "print(result)"
   ]
  },
  {
   "cell_type": "markdown",
   "id": "7901669d",
   "metadata": {},
   "source": [
    "## Task : T\n",
    "Say, in a confusion matrix, the values of the four metrics are: TP=90, TN=1, FP=4, FN=5. Compute F1_original and MCC_original denoting the F1 and MCC scores.\n",
    "\n",
    "Now, flip the predictions, i.e., positives are now will be predicted as negative, and negatives are going to be predicted as positive. \n",
    "\n",
    "Then, compute F1_flipped and MCC_flipped, denoting corresponding F1 and MCC scores. \n",
    "\n",
    "Print/Return the new {TP, TN, FP, FN, F1_original,MCC_original,F1_flipped, MCC_flipped, COMMENT_string} as a dataframe, where COMMENT_string is a string that will be no longer than 200 characters but is going to be your comment about the F1 and MCC values for the two cases.\n"
   ]
  },
  {
   "cell_type": "code",
   "execution_count": 38,
   "id": "bcd5c9b9",
   "metadata": {},
   "outputs": [
    {
     "name": "stdout",
     "output_type": "stream",
     "text": [
      "original [1, 4, 5, 90]\n",
      "\n",
      " original F1 0.9523809523809523\n",
      "\n",
      "original MCC 0.13524203070138519\n"
     ]
    },
    {
     "name": "stderr",
     "output_type": "stream",
     "text": [
      "/var/folders/yy/pk8ymktn2997l12961d0jwnh0000gn/T/ipykernel_64809/3336623437.py:2: FutureWarning: Passing a negative integer is deprecated in version 1.0 and will not be supported in future version. Instead, use None to not limit the column width.\n",
      "  pd.set_option('display.max_colwidth', -1)  # or 199\n"
     ]
    }
   ],
   "source": [
    "import pandas as pd\n",
    "pd.set_option('display.max_colwidth', -1)  # or 199\n",
    "\n",
    "#original\n",
    "org_TP = 90\n",
    "org_TN = 1\n",
    "org_FP = 4\n",
    "org_FN = 5\n",
    "\n",
    "\n",
    "org_conf_mat = [org_TN, org_FP, org_FN, org_TP]\n",
    "print(\"original\", org_conf_mat)\n",
    "\n",
    "F1_original = F1(org_conf_mat)\n",
    "print(\"\\n original F1\", F1_original)\n",
    "\n",
    "MCC_original = MCC(org_conf_mat)\n",
    "print(\"\\noriginal MCC\", MCC_original)\n"
   ]
  },
  {
   "cell_type": "code",
   "execution_count": 39,
   "id": "93157967",
   "metadata": {},
   "outputs": [
    {
     "name": "stdout",
     "output_type": "stream",
     "text": [
      "\n",
      "flipped [4, 1, 90, 5]\n",
      "\n",
      "flipped F1 0.099009900990099\n",
      "\n",
      "flipped MCC -0.13524203070138519\n"
     ]
    }
   ],
   "source": [
    "#flipped\n",
    "flipped_TP = org_FN\n",
    "flipped_TN = org_FP\n",
    "flipped_FP = org_TN\n",
    "flipped_FN = org_TP\n",
    "\n",
    "\n",
    "flipped_conf_mat = [flipped_TN, flipped_FP, flipped_FN, flipped_TP]\n",
    "\n",
    "print(\"\\nflipped\", flipped_conf_mat)\n",
    "\n",
    "F1_flipped = F1(flipped_conf_mat)\n",
    "print(\"\\nflipped F1\", F1_flipped)\n",
    "\n",
    "MCC_flipped = MCC(flipped_conf_mat)\n",
    "print(\"\\nflipped MCC\",MCC_flipped)\n"
   ]
  },
  {
   "cell_type": "code",
   "execution_count": 40,
   "id": "62d084c6",
   "metadata": {},
   "outputs": [
    {
     "name": "stdout",
     "output_type": "stream",
     "text": [
      "90 1 4 5 0.9523809523809523 0.13524203070138519 0.099009900990099 -0.13524203070138519 When original and flipped are compared, F1 values seems to be difference but MCC values are similar but flipped from positive to negative\n"
     ]
    }
   ],
   "source": [
    "COMMENT_string = \"When original and flipped are compared, F1 values seems to be difference but MCC values are similar but flipped from positive to negative\"\n",
    "print(org_TP, org_TN, org_FP, org_FN, F1_original, MCC_original, F1_flipped, MCC_flipped, COMMENT_string)"
   ]
  },
  {
   "cell_type": "markdown",
   "id": "76ba9996",
   "metadata": {},
   "source": [
    "## For Graduate Students only"
   ]
  },
  {
   "cell_type": "markdown",
   "id": "70a72e6c",
   "metadata": {},
   "source": [
    "## Task: U\n",
    "This task is a follow up of Task P. There is always cost associated with misclassifications. For instance, if a model predicts a ncRNA (class=1) to be non ncRNA (class=0), further verfication will then follow that includes going through the next generation sequencing of those samples costing USD 20 per sample. On the other hand, cost of predicting a non ncRNA to be ncRNA insignificant as most researchers do not care for ncRNAs. They might put it in a piece of paper as a note costing USD 1 per 5 samples. The same cost applies to correct predictions too.\n",
    "\n",
    "What is the cost of predictions with each of the six models?"
   ]
  },
  {
   "cell_type": "code",
   "execution_count": 41,
   "id": "b4027ef3",
   "metadata": {},
   "outputs": [
    {
     "name": "stderr",
     "output_type": "stream",
     "text": [
      "  0%|                                                     | 0/6 [00:00<?, ?it/s]/var/folders/yy/pk8ymktn2997l12961d0jwnh0000gn/T/ipykernel_64809/2546776294.py:77: FutureWarning: The frame.append method is deprecated and will be removed from pandas in a future version. Use pandas.concat instead.\n",
      "  result = result.append(pd.Series([file_name,acc,prec,rec,f1,mcc,fdr,cost],index=result.columns),ignore_index=True)\n",
      " 17%|███████▌                                     | 1/6 [00:00<00:01,  2.52it/s]/Users/sharathkrishna/.pyenv/versions/3.8.6/lib/python3.8/site-packages/sklearn/neighbors/_classification.py:211: FutureWarning: Unlike other reduction functions (e.g. `skew`, `kurtosis`), the default behavior of `mode` typically preserves the axis it acts along. In SciPy 1.11.0, this behavior will change: the default value of `keepdims` will become False, the `axis` over which the statistic is taken will be eliminated, and the value None will no longer be accepted. Set `keepdims` to True or False to avoid this warning.\n",
      "  mode, _ = stats.mode(_y[neigh_ind, k], axis=1)\n",
      "/var/folders/yy/pk8ymktn2997l12961d0jwnh0000gn/T/ipykernel_64809/2546776294.py:77: FutureWarning: The frame.append method is deprecated and will be removed from pandas in a future version. Use pandas.concat instead.\n",
      "  result = result.append(pd.Series([file_name,acc,prec,rec,f1,mcc,fdr,cost],index=result.columns),ignore_index=True)\n",
      " 33%|███████████████                              | 2/6 [00:04<00:09,  2.35s/it]/var/folders/yy/pk8ymktn2997l12961d0jwnh0000gn/T/ipykernel_64809/2546776294.py:77: FutureWarning: The frame.append method is deprecated and will be removed from pandas in a future version. Use pandas.concat instead.\n",
      "  result = result.append(pd.Series([file_name,acc,prec,rec,f1,mcc,fdr,cost],index=result.columns),ignore_index=True)\n",
      " 50%|██████████████████████▌                      | 3/6 [00:52<01:09, 23.15s/it]/var/folders/yy/pk8ymktn2997l12961d0jwnh0000gn/T/ipykernel_64809/2546776294.py:77: FutureWarning: The frame.append method is deprecated and will be removed from pandas in a future version. Use pandas.concat instead.\n",
      "  result = result.append(pd.Series([file_name,acc,prec,rec,f1,mcc,fdr,cost],index=result.columns),ignore_index=True)\n",
      " 67%|██████████████████████████████               | 4/6 [00:52<00:28, 14.22s/it]/var/folders/yy/pk8ymktn2997l12961d0jwnh0000gn/T/ipykernel_64809/2546776294.py:77: FutureWarning: The frame.append method is deprecated and will be removed from pandas in a future version. Use pandas.concat instead.\n",
      "  result = result.append(pd.Series([file_name,acc,prec,rec,f1,mcc,fdr,cost],index=result.columns),ignore_index=True)\n",
      " 83%|█████████████████████████████████████▌       | 5/6 [00:52<00:09,  9.24s/it]/var/folders/yy/pk8ymktn2997l12961d0jwnh0000gn/T/ipykernel_64809/2546776294.py:77: FutureWarning: The frame.append method is deprecated and will be removed from pandas in a future version. Use pandas.concat instead.\n",
      "  result = result.append(pd.Series([file_name,acc,prec,rec,f1,mcc,fdr,cost],index=result.columns),ignore_index=True)\n",
      "100%|█████████████████████████████████████████████| 6/6 [01:05<00:00, 10.84s/it]"
     ]
    },
    {
     "name": "stdout",
     "output_type": "stream",
     "text": [
      "           model_name  Accuracy  Precision    Recall        F1       MCC  \\\n",
      "0  models/Model_1.pkl  0.951233  0.944276   0.906770  0.925143  0.889404   \n",
      "1  models/Model_2.pkl  0.947700  0.936597   0.903811  0.919912  0.881411   \n",
      "2  models/Model_3.pkl  0.965283  0.946492   0.949198  0.947843  0.921828   \n",
      "3  models/Model_4.pkl  0.966100  0.948907   0.949097  0.949002  0.923614   \n",
      "4  models/Model_5.pkl  0.914133  0.887770   0.848947  0.867925  0.804802   \n",
      "5  models/Model_6.pkl  0.953883  0.936816   0.923521  0.930121  0.895760   \n",
      "\n",
      "        FDR      Cost  \n",
      "0  0.055724  69934.8   \n",
      "1  0.063403  74132.4   \n",
      "2  0.053508  53243.4   \n",
      "3  0.051093  52273.2   \n",
      "4  0.112230  114009.6  \n",
      "5  0.063184  66786.6   \n"
     ]
    },
    {
     "name": "stderr",
     "output_type": "stream",
     "text": [
      "\n"
     ]
    }
   ],
   "source": [
    "#function for cost estimation\n",
    "def cost_P(conf_mat):\n",
    "    \n",
    "    [TN, FP, FN, TP] = conf_mat\n",
    "    total_cost =0\n",
    "    \n",
    "    #cost for predicting wrong and correct samples\n",
    "    cost_FP = 20\n",
    "    cost_FN = 20\n",
    "    cost_TN = 0.2\n",
    "    cost_TP = 0.2\n",
    "    \n",
    "    TN = TN * cost_TN\n",
    "    FP = FP * cost_FP\n",
    "    FN = FN * cost_FN\n",
    "    TP = TP * cost_TP\n",
    "    \n",
    "    total_cost = TN + FP + FN + TP\n",
    "    \n",
    "    return total_cost\n",
    "    \n",
    "\n",
    "\n",
    "#Task P\n",
    "#Print as a dataframe containing:\n",
    "# {model_name,acc,prec,rec,f1,mcc,FDR} for each of the N models (listed in model_files) predicting the target variables\n",
    "#  of the validation data.\n",
    "import pickle\n",
    "import numpy as np\n",
    "import pandas as pd\n",
    "import sys\n",
    "import os\n",
    "from tqdm import tqdm\n",
    "from sklearn.linear_model import LogisticRegression\n",
    "from sklearn.neural_network import MLPClassifier\n",
    "from sklearn import tree\n",
    "from sklearn.svm import SVC\n",
    "from sklearn.neighbors import KNeighborsClassifier\n",
    "result = pd.DataFrame(columns=['model_name','Accuracy','Precision','Recall','F1','MCC','FDR','Cost'])\n",
    "\n",
    "model_files=[\"models/Model_1.pkl\",\"models/Model_2.pkl\",\"models/Model_3.pkl\",\\\n",
    "                            \"models/Model_4.pkl\",\"models/Model_5.pkl\",\"models/Model_6.pkl\"]\n",
    "\n",
    "\n",
    "for file_name in tqdm(model_files):\n",
    "    in_file = open(file_name,'rb')\n",
    "    model = pickle.load(in_file)\n",
    "    in_file.close()\n",
    "\n",
    "    #Do the prediction by calling the \"predict\" member function of the model object on the\n",
    "    # validation data with the 8 features\n",
    "    X_test = X_validation_scaled.iloc[:,:-1]\n",
    "    y_test = X_validation_scaled.iloc[:,-1]\n",
    "    y_pred = model.predict(X_test)\n",
    "    \n",
    "    \n",
    "    #@TODO: Complete and revise the following...\n",
    "    conf_mat = []\n",
    "    acc = 0\n",
    "    prec = 0\n",
    "    rec = 0\n",
    "    f1 = 0\n",
    "    mcc = 0\n",
    "    fdr = 0\n",
    "    \n",
    "    conf_mat = confusion_matrix(y_test, y_pred)\n",
    "    \n",
    "    acc = accuracy(conf_mat)\n",
    "    prec = precision(conf_mat)\n",
    "    rec = recall(conf_mat)\n",
    "    f1 = F1(conf_mat)\n",
    "    mcc = MCC(conf_mat)\n",
    "    fdr = FDR(conf_mat)\n",
    "    cost = cost_P(conf_mat)\n",
    "    \n",
    "    \n",
    "    result = result.append(pd.Series([file_name,acc,prec,rec,f1,mcc,fdr,cost],index=result.columns),ignore_index=True)\n",
    "    \n",
    "print(result)\n",
    "\n",
    "\n"
   ]
  },
  {
   "cell_type": "markdown",
   "id": "e0a14fbd",
   "metadata": {},
   "source": [
    "## Task: V\n",
    "Please comment on which of the six models is the best on the cost basis."
   ]
  },
  {
   "cell_type": "code",
   "execution_count": 42,
   "id": "64aa50cc",
   "metadata": {},
   "outputs": [
    {
     "name": "stdout",
     "output_type": "stream",
     "text": [
      "The best model as per the cost basis is \n",
      "\n"
     ]
    },
    {
     "data": {
      "text/plain": [
       "model_name    models/Model_4.pkl\n",
       "Cost          52273.2           \n",
       "Name: 3, dtype: object"
      ]
     },
     "execution_count": 42,
     "metadata": {},
     "output_type": "execute_result"
    }
   ],
   "source": [
    "print(\"The best model as per the cost basis is \\n\")\n",
    "result.iloc[result.Cost.argmin(), [0,7]]\n"
   ]
  },
  {
   "cell_type": "markdown",
   "id": "ccf512d2",
   "metadata": {},
   "source": [
    "## Task: W\n",
    "Please comment on which of the six models is the best overall. Explain your answer."
   ]
  },
  {
   "cell_type": "markdown",
   "id": "06bf01df",
   "metadata": {},
   "source": [
    "Regarding accuracy, precision, recall, F1, MCC, and cost, all six models exhibit performance that is quite similar. Model 5 can be described as the worst when compared to other models because it is less accurate and much more expensive. Models 3 and 4 might be considered the best models in contrast to other models because of their high accuracy, high precision, and low cost."
   ]
  },
  {
   "cell_type": "markdown",
   "id": "be2434a5",
   "metadata": {},
   "source": [
    "## Task: X\n",
    "Again a followup of Tasks O and P: Please scale the given validation dataset with an alternate scaling technique you can think of and repeat Task P with the modified scaled validation."
   ]
  },
  {
   "cell_type": "code",
   "execution_count": 43,
   "id": "d0ff9a77",
   "metadata": {},
   "outputs": [
    {
     "name": "stdout",
     "output_type": "stream",
     "text": [
      "              0         1         2         3         4         5         6  \\\n",
      "0      0.078679 -0.327924 -0.044176  0.025415  0.159411 -0.203587  0.188098   \n",
      "1      0.117223 -0.327924 -0.022215 -0.115667  0.107798  0.474481  0.102790   \n",
      "2      0.092598 -0.297621 -0.078490  0.025415  0.067245 -0.005220 -0.001350   \n",
      "3     -0.168109  0.323591  0.132634 -0.062171  0.028191 -0.060837 -0.067822   \n",
      "4      0.039600 -0.297621  0.012198  0.048851 -0.047962  0.133824  0.164832   \n",
      "...         ...       ...       ...       ...       ...       ...       ...   \n",
      "59995 -0.131171  0.353894  0.031317 -0.019697  0.011947  0.028382  0.065471   \n",
      "59996  0.031035  0.308440  0.070208  0.052757 -0.209253  0.011139 -0.008682   \n",
      "59997 -0.206117  0.353894  0.031317 -0.046358  0.041900  0.028382 -0.041165   \n",
      "59998  0.139707 -0.327924 -0.057902  0.012293  0.107798 -0.039981 -0.125986   \n",
      "59999 -0.164897  0.353894  0.043019 -0.319495  0.114084 -0.038533 -0.014504   \n",
      "\n",
      "              7  8  \n",
      "0     -0.090047  0  \n",
      "1     -0.281751  0  \n",
      "2      0.027589  0  \n",
      "3      0.095669  1  \n",
      "4     -0.205818  1  \n",
      "...         ... ..  \n",
      "59995 -0.054102  1  \n",
      "59996 -0.046550  0  \n",
      "59997 -0.024150  1  \n",
      "59998  0.120952  0  \n",
      "59999  0.005807  1  \n",
      "\n",
      "[60000 rows x 9 columns]\n",
      "(60000, 9)\n"
     ]
    }
   ],
   "source": [
    "\n",
    "#Implementing mean normalization as feature scaling\n",
    "modified_scaled_validation = pd.DataFrame(validation)\n",
    "\n",
    "\n",
    "for features in training.columns:\n",
    "    if features == 8:\n",
    "        break\n",
    "    #Mean value of a feature in training set     \n",
    "    mean_val = training.mean()\n",
    "    #Minimum value of a feature in training set\n",
    "    min_val = training.min()\n",
    "    #Maximum value of a feature in training set\n",
    "    max_val = training.max()\n",
    "        \n",
    "   \n",
    "for attributes in validation:\n",
    "    if attributes == 8:\n",
    "        break \n",
    "    modified_scaled_validation[attributes] = (validation[attributes] - mean_val[attributes])/(max_val[attributes] - min_val[attributes])\n",
    "        \n",
    "print(modified_scaled_validation)\n",
    "print(modified_scaled_validation.shape)\n",
    "\n"
   ]
  },
  {
   "cell_type": "code",
   "execution_count": 44,
   "id": "c3adf9c4",
   "metadata": {},
   "outputs": [
    {
     "name": "stderr",
     "output_type": "stream",
     "text": [
      "  0%|                                                     | 0/6 [00:00<?, ?it/s]/var/folders/yy/pk8ymktn2997l12961d0jwnh0000gn/T/ipykernel_64809/365785007.py:53: FutureWarning: The frame.append method is deprecated and will be removed from pandas in a future version. Use pandas.concat instead.\n",
      "  result = result.append(pd.Series([file_name,acc,prec,rec,f1,mcc,fdr],index=result.columns),ignore_index=True)\n",
      " 17%|███████▌                                     | 1/6 [00:00<00:02,  2.26it/s]/Users/sharathkrishna/.pyenv/versions/3.8.6/lib/python3.8/site-packages/sklearn/neighbors/_classification.py:211: FutureWarning: Unlike other reduction functions (e.g. `skew`, `kurtosis`), the default behavior of `mode` typically preserves the axis it acts along. In SciPy 1.11.0, this behavior will change: the default value of `keepdims` will become False, the `axis` over which the statistic is taken will be eliminated, and the value None will no longer be accepted. Set `keepdims` to True or False to avoid this warning.\n",
      "  mode, _ = stats.mode(_y[neigh_ind, k], axis=1)\n",
      "/var/folders/yy/pk8ymktn2997l12961d0jwnh0000gn/T/ipykernel_64809/365785007.py:53: FutureWarning: The frame.append method is deprecated and will be removed from pandas in a future version. Use pandas.concat instead.\n",
      "  result = result.append(pd.Series([file_name,acc,prec,rec,f1,mcc,fdr],index=result.columns),ignore_index=True)\n",
      " 33%|███████████████                              | 2/6 [00:13<00:30,  7.68s/it]/var/folders/yy/pk8ymktn2997l12961d0jwnh0000gn/T/ipykernel_64809/365785007.py:53: FutureWarning: The frame.append method is deprecated and will be removed from pandas in a future version. Use pandas.concat instead.\n",
      "  result = result.append(pd.Series([file_name,acc,prec,rec,f1,mcc,fdr],index=result.columns),ignore_index=True)\n",
      " 50%|██████████████████████▌                      | 3/6 [01:01<01:18, 26.07s/it]/var/folders/yy/pk8ymktn2997l12961d0jwnh0000gn/T/ipykernel_64809/365785007.py:53: FutureWarning: The frame.append method is deprecated and will be removed from pandas in a future version. Use pandas.concat instead.\n",
      "  result = result.append(pd.Series([file_name,acc,prec,rec,f1,mcc,fdr],index=result.columns),ignore_index=True)\n",
      " 67%|██████████████████████████████               | 4/6 [01:01<00:31, 16.00s/it]/var/folders/yy/pk8ymktn2997l12961d0jwnh0000gn/T/ipykernel_64809/365785007.py:53: FutureWarning: The frame.append method is deprecated and will be removed from pandas in a future version. Use pandas.concat instead.\n",
      "  result = result.append(pd.Series([file_name,acc,prec,rec,f1,mcc,fdr],index=result.columns),ignore_index=True)\n",
      " 83%|█████████████████████████████████████▌       | 5/6 [01:02<00:10, 10.39s/it]/var/folders/yy/pk8ymktn2997l12961d0jwnh0000gn/T/ipykernel_64809/365785007.py:53: FutureWarning: The frame.append method is deprecated and will be removed from pandas in a future version. Use pandas.concat instead.\n",
      "  result = result.append(pd.Series([file_name,acc,prec,rec,f1,mcc,fdr],index=result.columns),ignore_index=True)\n",
      "100%|█████████████████████████████████████████████| 6/6 [01:14<00:00, 12.38s/it]"
     ]
    },
    {
     "name": "stdout",
     "output_type": "stream",
     "text": [
      "           model_name  Accuracy  Precision    Recall        F1       MCC  \\\n",
      "0  models/Model_1.pkl  0.671567  0.903448   0.013139  0.025902  0.084495   \n",
      "1  models/Model_2.pkl  0.669933  0.508072   0.214644  0.301791  0.150777   \n",
      "2  models/Model_3.pkl  0.721783  0.581171   0.582949  0.582059  0.373552   \n",
      "3  models/Model_4.pkl  0.774167  0.654782   0.677834  0.666108  0.495738   \n",
      "4  models/Model_5.pkl  0.670783  1.000000   0.009378  0.018582  0.079253   \n",
      "5  models/Model_6.pkl  0.680217  0.898413   0.042578  0.081302  0.152019   \n",
      "\n",
      "        FDR  \n",
      "0  0.096552  \n",
      "1  0.491928  \n",
      "2  0.418829  \n",
      "3  0.345218  \n",
      "4  0.000000  \n",
      "5  0.101587  \n"
     ]
    },
    {
     "name": "stderr",
     "output_type": "stream",
     "text": [
      "\n"
     ]
    }
   ],
   "source": [
    "#@TODO\n",
    "#Print as a dataframe containing:\n",
    "# {model_name,acc,prec,rec,f1,mcc,FDR} for each of the N models (listed in model_files) predicting the target variables\n",
    "#  of the validation data.\n",
    "import pickle\n",
    "import numpy as np\n",
    "import pandas as pd\n",
    "import sys\n",
    "import os\n",
    "from tqdm import tqdm\n",
    "from sklearn.linear_model import LogisticRegression\n",
    "from sklearn.neural_network import MLPClassifier\n",
    "from sklearn import tree\n",
    "from sklearn.svm import SVC\n",
    "from sklearn.neighbors import KNeighborsClassifier\n",
    "result = pd.DataFrame(columns=['model_name','Accuracy','Precision','Recall','F1','MCC','FDR'])\n",
    "\n",
    "model_files=[\"models/Model_1.pkl\",\"models/Model_2.pkl\",\"models/Model_3.pkl\",\\\n",
    "                            \"models/Model_4.pkl\",\"models/Model_5.pkl\",\"models/Model_6.pkl\"]\n",
    "\n",
    "\n",
    "for file_name in tqdm(model_files):\n",
    "    in_file = open(file_name,'rb')\n",
    "    model = pickle.load(in_file)\n",
    "    in_file.close()\n",
    "\n",
    "    #Do the prediction by calling the \"predict\" member function of the model object on the\n",
    "    # validation data with the 8 features\n",
    "    X_test = modified_scaled_validation.iloc[:,:-1]\n",
    "    y_test = modified_scaled_validation.iloc[:,-1]\n",
    "    y_pred = model.predict(X_test)\n",
    "    \n",
    "    \n",
    "    #@TODO: Complete and revise the following...\n",
    "    conf_mat = []\n",
    "    acc = 0\n",
    "    prec = 0\n",
    "    rec = 0\n",
    "    f1 = 0\n",
    "    mcc = 0\n",
    "    fdr = 0\n",
    "    \n",
    "    conf_mat = confusion_matrix(y_test, y_pred)\n",
    "    \n",
    "    acc = accuracy(conf_mat)\n",
    "    prec = precision(conf_mat)\n",
    "    rec = recall(conf_mat)\n",
    "    f1 = F1(conf_mat)\n",
    "    mcc = MCC(conf_mat)\n",
    "    fdr = FDR(conf_mat)\n",
    "    \n",
    "    \n",
    "    result = result.append(pd.Series([file_name,acc,prec,rec,f1,mcc,fdr],index=result.columns),ignore_index=True)\n",
    "\n",
    "print(result)"
   ]
  },
  {
   "cell_type": "markdown",
   "id": "bdf41c13",
   "metadata": {},
   "source": [
    "## Task: Y\n",
    "Print the model name with path which is performing superior in terms of accuracy, given the performance result dataframe from “X”"
   ]
  },
  {
   "cell_type": "code",
   "execution_count": 45,
   "id": "b30e3428",
   "metadata": {},
   "outputs": [
    {
     "data": {
      "text/plain": [
       "model_name    models/Model_4.pkl\n",
       "Accuracy      0.774167          \n",
       "Name: 3, dtype: object"
      ]
     },
     "execution_count": 45,
     "metadata": {},
     "output_type": "execute_result"
    }
   ],
   "source": [
    "result.iloc[result.Accuracy.argmax(), 0:2]"
   ]
  },
  {
   "cell_type": "markdown",
   "id": "b7f35599",
   "metadata": {},
   "source": [
    "## Task: Z\n",
    "Print the model name with path which is performing the worst in terms of recall, given the performance result dataframe from “X”"
   ]
  },
  {
   "cell_type": "code",
   "execution_count": 46,
   "id": "ea65917d",
   "metadata": {},
   "outputs": [
    {
     "data": {
      "text/plain": [
       "model_name    models/Model_5.pkl\n",
       "Recall        0.009378          \n",
       "Name: 4, dtype: object"
      ]
     },
     "execution_count": 46,
     "metadata": {},
     "output_type": "execute_result"
    }
   ],
   "source": [
    "result.iloc[result.Recall.argmin(), [0,3]]"
   ]
  },
  {
   "cell_type": "code",
   "execution_count": null,
   "id": "2e2c96f9",
   "metadata": {},
   "outputs": [],
   "source": []
  },
  {
   "cell_type": "code",
   "execution_count": null,
   "id": "ac866f87",
   "metadata": {},
   "outputs": [],
   "source": []
  }
 ],
 "metadata": {
  "kernelspec": {
   "display_name": "Python 3 (ipykernel)",
   "language": "python",
   "name": "python3"
  },
  "language_info": {
   "codemirror_mode": {
    "name": "ipython",
    "version": 3
   },
   "file_extension": ".py",
   "mimetype": "text/x-python",
   "name": "python",
   "nbconvert_exporter": "python",
   "pygments_lexer": "ipython3",
   "version": "3.8.6"
  }
 },
 "nbformat": 4,
 "nbformat_minor": 5
}
